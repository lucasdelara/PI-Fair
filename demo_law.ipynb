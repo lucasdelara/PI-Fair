{
 "cells": [
  {
   "cell_type": "code",
   "execution_count": 1,
   "metadata": {
    "pycharm": {
     "name": "#%%\n"
    }
   },
   "outputs": [],
   "source": [
    "import matplotlib.pyplot as plt\n",
    "import numpy as np\n",
    "import utils as ut"
   ]
  },
  {
   "cell_type": "markdown",
   "metadata": {
    "pycharm": {
     "name": "#%% md\n"
    }
   },
   "source": [
    "# 1. Data importation and preparation"
   ]
  },
  {
   "cell_type": "markdown",
   "metadata": {
    "pycharm": {
     "name": "#%% md\n"
    }
   },
   "source": [
    "We work with the Law School Dataset: https://github.com/mkusner/counterfactual-fairness"
   ]
  },
  {
   "cell_type": "code",
   "execution_count": 2,
   "metadata": {
    "pycharm": {
     "name": "#%%\n"
    }
   },
   "outputs": [
    {
     "name": "stdout",
     "output_type": "stream",
     "text": [
      "S_train.shape: (13109,)\n",
      "X_train.shape: (13109, 3)\n",
      "y_train.shape: (13109, 1)\n",
      "S_test.shape: (6458,)\n",
      "X_test.shape: (6458, 3)\n",
      "y_test.shape: (6458, 1)\n"
     ]
    }
   ],
   "source": [
    "pre_title = 'law_'\n",
    "\n",
    "MyDirWithData='./'\n",
    "\n",
    "[X_train, X_test, y_train, y_test, S_train, S_test,X_col_names]=ut.read_and_treat_law_data(MyDirWithData, display=True)\n",
    "\n",
    "X_train = X_train.astype('float32')\n",
    "y_train = y_train.ravel()\n",
    "S_train = S_train.astype('float32')\n",
    "X_test = X_test.astype('float32')\n",
    "y_test = y_test.ravel()\n",
    "S_test = S_test.astype('float32')"
   ]
  },
  {
   "cell_type": "markdown",
   "metadata": {
    "pycharm": {
     "name": "#%% md\n"
    }
   },
   "source": [
    "# 2. Counterfactual modeling"
   ]
  },
  {
   "cell_type": "markdown",
   "metadata": {
    "pycharm": {
     "name": "#%% md\n"
    }
   },
   "source": [
    "We compute two empirical counterfactual models: one on the training set, and one on the testing set. For every $s < s' \\in \\mathcal{S}$, it involves solving the program\n",
    "$$\n",
    "    \\min_{\\pi \\in \\Sigma(n_s,n_{s'})} \\sum_{i \\in \\mathcal{I}_s} \\sum_{j \\in \\mathcal{I}_{s'}} \\pi[i,j] C[i,j],\n",
    "$$\n",
    "where\n",
    "\n",
    "1. $C[i,j] = ||x_i - x_j||^2$,\n",
    "2. $n_s = \\sum^n_{i=1} \\mathbf{1}_{\\{s_i=s\\}}$,\n",
    "2. $I_s = \\{ i=1,\\ldots,n \\mid s_i=s\\}$."
   ]
  },
  {
   "cell_type": "code",
   "execution_count": 3,
   "metadata": {
    "pycharm": {
     "name": "#%%\n"
    }
   },
   "outputs": [],
   "source": [
    "model_train = ut.learn_cf(X_train,S_train)\n",
    "model_test = ut.learn_cf(X_test,S_test)"
   ]
  },
  {
   "cell_type": "markdown",
   "metadata": {
    "pycharm": {
     "name": "#%% md\n"
    }
   },
   "source": [
    "# 3. Training regularized and baseline classifiers"
   ]
  },
  {
   "cell_type": "markdown",
   "metadata": {
    "pycharm": {
     "name": "#%% md\n"
    }
   },
   "source": [
    "The parameter $\\lambda$ takes different values accross a grid. We store the evaluation metrics for each value of $\\lambda$ and each baseline predictor."
   ]
  },
  {
   "cell_type": "code",
   "execution_count": 4,
   "metadata": {
    "pycharm": {
     "name": "#%%\n"
    }
   },
   "outputs": [],
   "source": [
    "param_list = [1e-4,10**(-3.5),1e-3,10**(-2.5),1e-2,10**(-1.5),10**(-1.25),10**(-1.1875),10**(-1.125),\n",
    "              1e-1,10**(-0.5),1e0,10**(0.5),1e1]\n",
    "\n",
    "MSE_list = []\n",
    "KS_list = []\n",
    "CFR_list = []\n",
    "NVI_list = []\n",
    "\n",
    "CCFL_list = []\n",
    "OTCFL_list = []"
   ]
  },
  {
   "cell_type": "code",
   "execution_count": 5,
   "metadata": {
    "pycharm": {
     "name": "#%%\n"
    }
   },
   "outputs": [],
   "source": [
    "epsilon = 0.5*np.mean(np.abs(y_test[:,None]-y_test[None,:]))\n",
    "delta = 0.1"
   ]
  },
  {
   "cell_type": "markdown",
   "metadata": {
    "pycharm": {
     "name": "#%% md\n"
    }
   },
   "source": [
    "## 3.1. Unaltered predictor"
   ]
  },
  {
   "cell_type": "markdown",
   "metadata": {
    "pycharm": {
     "name": "#%% md\n"
    }
   },
   "source": [
    "Corresponds to $\\lambda = 0$. Presumably the most accurate but also the most unfair predictor."
   ]
  },
  {
   "cell_type": "code",
   "execution_count": 6,
   "metadata": {
    "pycharm": {
     "name": "#%%\n"
    }
   },
   "outputs": [],
   "source": [
    "w = ut.train_regr(X_train,y_train)\n",
    "y_pred = ut.regression(X_test,w)\n",
    "\n",
    "MSE_list.append(ut.MSE(y_pred,y_test))\n",
    "KS_list.append(ut.KS(y_pred,S_test))\n",
    "CFR_list.append(ut.counterfactual_fairness_rate(y_pred,model_test,epsilon,delta))\n",
    "NVI_list.append(np.std(y_pred)/np.std(y_test))\n",
    "\n",
    "CCFL_list.append(ut.LinearSCM_CFL(w,S_test,X_test))\n",
    "OTCFL_list.append(ut._counterfactual_loss(w,np.concatenate((np.ones((len(X_test),1)),X_test),axis=1),model_test)[0])"
   ]
  },
  {
   "cell_type": "markdown",
   "metadata": {
    "pycharm": {
     "name": "#%% md\n"
    }
   },
   "source": [
    "## 3.2. Penalized predictors"
   ]
  },
  {
   "cell_type": "markdown",
   "metadata": {
    "pycharm": {
     "name": "#%% md\n"
    }
   },
   "source": [
    "Corresponds to $\\lambda > 0$. $\\lambda$ governs a trade-off between accuracy and counterfactual fairness."
   ]
  },
  {
   "cell_type": "code",
   "execution_count": 7,
   "metadata": {
    "pycharm": {
     "name": "#%%\n"
    }
   },
   "outputs": [],
   "source": [
    "for reg in param_list:\n",
    "    \n",
    "    w = ut.train_regr(X_train,y_train,reg,model_train)\n",
    "    y_pred = ut.regression(X_test,w)\n",
    "    \n",
    "    MSE_list.append(ut.MSE(y_pred,y_test))\n",
    "    KS_list.append(ut.KS(y_pred,S_test))\n",
    "    CFR_list.append(ut.counterfactual_fairness_rate(y_pred,model_test,epsilon,delta))\n",
    "    NVI_list.append(np.std(y_pred)/np.std(y_test))\n",
    "    \n",
    "    CCFL_list.append(ut.LinearSCM_CFL(w,S_test,X_test))\n",
    "    OTCFL_list.append(ut._counterfactual_loss(w,np.concatenate((np.ones((len(X_test),1)),X_test),axis=1),model_test)[0])"
   ]
  },
  {
   "cell_type": "markdown",
   "metadata": {
    "pycharm": {
     "name": "#%% md\n"
    }
   },
   "source": [
    "## 3.3. Best constant predictor"
   ]
  },
  {
   "cell_type": "markdown",
   "metadata": {
    "pycharm": {
     "name": "#%% md\n"
    }
   },
   "source": [
    "Corresponds to the mean target value."
   ]
  },
  {
   "cell_type": "code",
   "execution_count": 8,
   "metadata": {
    "pycharm": {
     "name": "#%%\n"
    }
   },
   "outputs": [],
   "source": [
    "y_pred = np.mean(y_train)*np.ones(len(y_test))\n",
    "\n",
    "MSE_list.append(ut.MSE(y_pred,y_test))\n",
    "KS_list.append(ut.KS(y_pred,S_test))\n",
    "CFR_list.append(ut.counterfactual_fairness_rate(y_pred,model_test,epsilon,delta))\n",
    "NVI_list.append(np.std(y_pred)/np.std(y_test))\n",
    "\n",
    "CCFL_list.append(ut.LinearSCM_CFL(w,S_test,X_test))\n",
    "OTCFL_list.append(ut._counterfactual_loss(w,np.concatenate((np.ones((len(X_test),1)),X_test),axis=1),model_test)[0])"
   ]
  },
  {
   "cell_type": "markdown",
   "metadata": {
    "pycharm": {
     "name": "#%% md\n"
    }
   },
   "source": [
    "## 4. Evaluation"
   ]
  },
  {
   "cell_type": "markdown",
   "metadata": {
    "pycharm": {
     "name": "#%% md\n"
    }
   },
   "source": [
    "We plot the evaluation metrics on a logarithmic scale."
   ]
  },
  {
   "cell_type": "code",
   "execution_count": 9,
   "metadata": {
    "pycharm": {
     "name": "#%%\n"
    }
   },
   "outputs": [],
   "source": [
    "param_scale = np.log10(param_list)"
   ]
  },
  {
   "cell_type": "markdown",
   "metadata": {
    "pycharm": {
     "name": "#%% md\n"
    }
   },
   "source": [
    "### 4.1. Prediction error"
   ]
  },
  {
   "cell_type": "code",
   "execution_count": 10,
   "metadata": {
    "pycharm": {
     "name": "#%%\n"
    },
    "scrolled": true
   },
   "outputs": [],
   "source": [
    "metric = MSE_list\n",
    "title = 'Mean Square Error'"
   ]
  },
  {
   "cell_type": "code",
   "execution_count": 11,
   "metadata": {
    "pycharm": {
     "name": "#%%\n"
    },
    "scrolled": true
   },
   "outputs": [
    {
     "data": {
      "image/png": "[encoded data removed]",
      "text/plain": [
       "<Figure size 432x288 with 1 Axes>"
      ]
     },
     "metadata": {
      "needs_background": "light"
     },
     "output_type": "display_data"
    }
   ],
   "source": [
    "#Unfair\n",
    "plt.plot(param_scale,[metric[0]]*len(param_scale), color='green', label='U')\n",
    "#Trade-off\n",
    "plt.plot(param_scale,metric[1:len(param_scale)+1],\n",
    "         color='blue',linestyle='solid', marker='o', label='$\\Pi$-Fair($\\lambda$)')\n",
    "#Fair\n",
    "plt.plot(param_scale,[metric[-1]]*len(param_scale), color='red', label='Const')\n",
    "\n",
    "plt.ylabel(title)\n",
    "plt.xlabel('$\\lambda$ (log10)')\n",
    "plt.legend()\n",
    "fig = plt.gcf()\n",
    "plt.show()"
   ]
  },
  {
   "cell_type": "markdown",
   "metadata": {
    "pycharm": {
     "name": "#%% md\n"
    }
   },
   "source": [
    "### 4.2. Counterfactual fairness rate"
   ]
  },
  {
   "cell_type": "code",
   "execution_count": 12,
   "metadata": {
    "pycharm": {
     "name": "#%%\n"
    }
   },
   "outputs": [],
   "source": [
    "metric = CFR_list\n",
    "title = 'Counterfactual Fairness Rate'"
   ]
  },
  {
   "cell_type": "code",
   "execution_count": 13,
   "metadata": {
    "pycharm": {
     "name": "#%%\n"
    },
    "scrolled": true
   },
   "outputs": [
    {
     "data": {
      "image/png": "[encoded data removed]",
      "text/plain": [
       "<Figure size 432x288 with 1 Axes>"
      ]
     },
     "metadata": {
      "needs_background": "light"
     },
     "output_type": "display_data"
    }
   ],
   "source": [
    "#Unfair\n",
    "plt.plot(param_scale,[metric[0]]*len(param_scale), color='green', label='U')\n",
    "#Trade-off\n",
    "plt.plot(param_scale,metric[1:len(param_scale)+1],\n",
    "         color='blue',linestyle='solid', marker='o', label='$\\Pi$-Fair($\\lambda$)')\n",
    "#Fair\n",
    "plt.plot(param_scale,[metric[-1]]*len(param_scale), color='red', label='Const')\n",
    "\n",
    "plt.ylabel(title)\n",
    "plt.xlabel('$\\lambda$ (log10)')\n",
    "plt.legend()\n",
    "fig = plt.gcf()\n",
    "plt.show()"
   ]
  },
  {
   "cell_type": "markdown",
   "metadata": {
    "pycharm": {
     "name": "#%% md\n"
    }
   },
   "source": [
    "### 4.3. Statistical parity"
   ]
  },
  {
   "cell_type": "code",
   "execution_count": 14,
   "metadata": {
    "pycharm": {
     "name": "#%%\n"
    }
   },
   "outputs": [],
   "source": [
    "metric = KS_list\n",
    "title = 'Kolmogorov-Smirnov'"
   ]
  },
  {
   "cell_type": "code",
   "execution_count": 15,
   "metadata": {
    "pycharm": {
     "name": "#%%\n"
    },
    "scrolled": true
   },
   "outputs": [
    {
     "data": {
      "image/png": "[encoded data removed]",
      "text/plain": [
       "<Figure size 432x288 with 1 Axes>"
      ]
     },
     "metadata": {
      "needs_background": "light"
     },
     "output_type": "display_data"
    }
   ],
   "source": [
    "#Unfair\n",
    "plt.plot(param_scale,[metric[0]]*len(param_scale), color='green', label='U')\n",
    "#Trade-off\n",
    "plt.plot(param_scale,metric[1:len(param_scale)+1],\n",
    "         color='blue',linestyle='solid', marker='o', label='$\\Pi$-Fair($\\lambda$)')\n",
    "#Fair\n",
    "plt.plot(param_scale,[metric[-1]]*len(param_scale), color='red', label='Const')\n",
    "\n",
    "plt.ylabel(title)\n",
    "plt.xlabel('$\\lambda$ (log10)')\n",
    "plt.legend()\n",
    "fig = plt.gcf()\n",
    "plt.show()"
   ]
  },
  {
   "cell_type": "markdown",
   "metadata": {
    "pycharm": {
     "name": "#%% md\n"
    }
   },
   "source": [
    "### 4.4. Variations"
   ]
  },
  {
   "cell_type": "code",
   "execution_count": 16,
   "metadata": {
    "pycharm": {
     "name": "#%%\n"
    }
   },
   "outputs": [],
   "source": [
    "metric = NVI_list\n",
    "title = 'Standard Deviations'"
   ]
  },
  {
   "cell_type": "code",
   "execution_count": 17,
   "metadata": {
    "pycharm": {
     "name": "#%%\n"
    }
   },
   "outputs": [
    {
     "data": {
      "image/png": "[encoded data removed]",
      "text/plain": [
       "<Figure size 432x288 with 1 Axes>"
      ]
     },
     "metadata": {
      "needs_background": "light"
     },
     "output_type": "display_data"
    }
   ],
   "source": [
    "#Unfair\n",
    "plt.plot(param_scale,[metric[0]]*len(param_scale), color='green', label='LR')\n",
    "#Trade-off\n",
    "plt.plot(param_scale,metric[1:len(param_scale)+1],\n",
    "         color='blue',linestyle='solid', marker='o', label='$\\Pi$-Fair($\\lambda$)')\n",
    "#Fair\n",
    "plt.plot(param_scale,[metric[-1]]*len(param_scale), color='red', label='Const')\n",
    "\n",
    "plt.ylabel(title)\n",
    "plt.xlabel('$\\lambda$ (log10)')\n",
    "#plt.legend()\n",
    "fig = plt.gcf()\n",
    "plt.show()"
   ]
  },
  {
   "cell_type": "markdown",
   "metadata": {
    "pycharm": {
     "name": "#%% md\n"
    }
   },
   "source": [
    "# 5. The link with causal counterfactual fairness"
   ]
  },
  {
   "cell_type": "markdown",
   "metadata": {
    "pycharm": {
     "name": "#%% md\n"
    }
   },
   "source": [
    "In the next experiment, we show that enforcing transport-based counterfactual fairness promotes causal-based counterfactual fairness. We rely on the linear SCM proposed by [Kusner et. al., 2017], which enables to derive a closed-form for structural counterfactual operator."
   ]
  },
  {
   "cell_type": "code",
   "execution_count": 18,
   "metadata": {
    "pycharm": {
     "name": "#%%\n"
    }
   },
   "outputs": [],
   "source": [
    "metric1 = CCFL_list\n",
    "metric2 = OTCFL_list\n",
    "title1 = 'Causal Counterfactual Fairness Loss'\n",
    "title2 = 'OT Counterfactual Fairness Loss'"
   ]
  },
  {
   "cell_type": "code",
   "execution_count": 19,
   "metadata": {
    "pycharm": {
     "name": "#%%\n"
    }
   },
   "outputs": [
    {
     "data": {
      "image/png": "[encoded data removed]",
      "text/plain": [
       "<Figure size 432x288 with 2 Axes>"
      ]
     },
     "metadata": {
      "needs_background": "light"
     },
     "output_type": "display_data"
    }
   ],
   "source": [
    "fig, (ax1, ax2) = plt.subplots(1, 2,sharex=True, sharey=True)\n",
    "\n",
    "#Unfair\n",
    "ax1.plot(param_scale,[metric1[0]]*len(param_scale), color='green', label='U')\n",
    "#Trade-off\n",
    "ax1.plot(param_scale,metric1[1:len(param_scale)+1],\n",
    "         color='blue',linestyle='solid', marker='o', label='$\\Pi$-Fair($\\lambda$)')\n",
    "#Fair\n",
    "ax1.plot(param_scale,[metric1[-1]]*len(param_scale), color='red', label='Const')\n",
    "\n",
    "ax1.set(xlabel='$\\lambda$ (log10)', ylabel=title1)\n",
    "#ax1.legend()\n",
    "\n",
    "#Unfair\n",
    "ax2.plot(param_scale,[metric2[0]]*len(param_scale), color='green', label='U')\n",
    "#Trade-off\n",
    "ax2.plot(param_scale,metric2[1:len(param_scale)+1],\n",
    "         color='blue',linestyle='solid', marker='o', label='$\\Pi$-Fair($\\lambda$)')\n",
    "#Fair\n",
    "ax2.plot(param_scale,[metric2[-1]]*len(param_scale), color='red', label='Const')\n",
    "\n",
    "ax2.set(xlabel='$\\lambda$ (log10)', ylabel=title2)\n",
    "#ax2.legend()\n",
    "\n",
    "\n",
    "fig = plt.gcf()\n",
    "\n",
    "plt.show()"
   ]
  },
  {
   "cell_type": "markdown",
   "metadata": {
    "pycharm": {
     "name": "#%% md\n"
    }
   },
   "source": [
    "As anticipated by the theory, the training process does promote causal counterfactual fairness. Importantly, this is not a consequence of the predictors merely becoming constant, as the sequence of aware predictions have variations that remain significantly higher than the best constant predictor."
   ]
  }
 ],
 "metadata": {
  "kernelspec": {
   "display_name": "Python 3 (ipykernel)",
   "language": "python",
   "name": "python3"
  },
  "language_info": {
   "codemirror_mode": {
    "name": "ipython",
    "version": 3
   },
   "file_extension": ".py",
   "mimetype": "text/x-python",
   "name": "python",
   "nbconvert_exporter": "python",
   "pygments_lexer": "ipython3",
   "version": "3.8.12"
  }
 },
 "nbformat": 4,
 "nbformat_minor": 4
}
