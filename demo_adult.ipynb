{
 "cells": [
  {
   "cell_type": "code",
   "execution_count": 1,
   "metadata": {},
   "outputs": [],
   "source": [
    "import matplotlib.pyplot as plt\n",
    "import numpy as np\n",
    "import utils as ut"
   ]
  },
  {
   "cell_type": "markdown",
   "metadata": {},
   "source": [
    "Set the randomness of the experiments."
   ]
  },
  {
   "cell_type": "code",
   "execution_count": 2,
   "metadata": {},
   "outputs": [],
   "source": [
    "seed = 2008\n",
    "import os\n",
    "os.environ['PYTHONHASHSEED']=str(seed)\n",
    "import random\n",
    "random.seed(seed)\n",
    "import numpy as np\n",
    "np.random.seed(seed)"
   ]
  },
  {
   "cell_type": "markdown",
   "metadata": {},
   "source": [
    "# 1. Data importation and preparation"
   ]
  },
  {
   "cell_type": "markdown",
   "metadata": {},
   "source": [
    "We work with the Adult Census Dataset: https://archive.ics.uci.edu/ml/datasets/adult\n",
    "\n",
    "The data is processed as in (Besse et al., 2021): https://github.com/XAI-ANITI/StoryOfBias"
   ]
  },
  {
   "cell_type": "code",
   "execution_count": 3,
   "metadata": {},
   "outputs": [
    {
     "name": "stdout",
     "output_type": "stream",
     "text": [
      "S_train.shape: (32724,)\n",
      "X_train.shape: (32724, 37)\n",
      "y_train.shape: (32724, 1)\n",
      "S_test.shape: (16118,)\n",
      "X_test.shape: (16118, 37)\n",
      "y_test.shape: (16118, 1)\n"
     ]
    }
   ],
   "source": [
    "MyDirWithAdultSensusData='./'\n",
    "\n",
    "[X_train, X_test, y_train, y_test, S_train, S_test,X_col_names]=ut.read_and_treat_adult_data(MyDirWithAdultSensusData)\n",
    "\n",
    "X_train = X_train\n",
    "y_train = y_train.ravel()\n",
    "S_train = S_train\n",
    "y_test = y_test.ravel()"
   ]
  },
  {
   "cell_type": "markdown",
   "metadata": {},
   "source": [
    "# 2. Counterfactual modeling"
   ]
  },
  {
   "cell_type": "markdown",
   "metadata": {},
   "source": [
    "We compute two empirical counterfactual models: one on the training set, and one on the testing set. For every $s < s' \\in \\mathcal{S}$, it involves solving the program\n",
    "$$\n",
    "    \\min_{\\pi \\in \\Sigma(n_s,n_{s'})} \\sum_{i \\in \\mathcal{I}_s} \\sum_{j \\in \\mathcal{I}_{s'}} \\pi[i,j] C[i,j],\n",
    "$$\n",
    "where\n",
    "\n",
    "1. $C[i,j] = ||x_i - x_j||^2$,\n",
    "2. $n_s = \\sum^n_{i=1} \\mathbf{1}_{\\{s_i=s\\}}$,\n",
    "2. $I_s = \\{ i=1,\\ldots,n \\mid s_i=s\\}$."
   ]
  },
  {
   "cell_type": "code",
   "execution_count": 4,
   "metadata": {},
   "outputs": [],
   "source": [
    "model_train = ut.learn_cf(X_train,S_train)\n",
    "model_test = ut.learn_cf(X_test,S_test)"
   ]
  },
  {
   "cell_type": "markdown",
   "metadata": {},
   "source": [
    "# 3. Training regularized and baseline classifiers"
   ]
  },
  {
   "cell_type": "markdown",
   "metadata": {},
   "source": [
    "The parameter $\\lambda$ takes different values accross a grid. We store the evaluation metrics for each value of $\\lambda$ and each baseline predictor."
   ]
  },
  {
   "cell_type": "code",
   "execution_count": 5,
   "metadata": {},
   "outputs": [],
   "source": [
    "param_list = [1e-4,10**(-3.5),1e-3,10**(-2.5),1e-2,10**(-1.5),1e-1,10**(-0.5),1e0,10**(0.5),1e1]\n",
    "w_list = []\n",
    "ACC_list = []\n",
    "DI_list = []\n",
    "CFR_list = []"
   ]
  },
  {
   "cell_type": "markdown",
   "metadata": {},
   "source": [
    "## 3.1. Unaltered classifier"
   ]
  },
  {
   "cell_type": "markdown",
   "metadata": {},
   "source": [
    "Corresponds to $\\lambda = 0$. Presumably the most accurate but also the most unfair predictor."
   ]
  },
  {
   "cell_type": "code",
   "execution_count": 6,
   "metadata": {},
   "outputs": [],
   "source": [
    "w = ut.train_model(X_train,y_train)\n",
    "y_pred = ut.classifier(X_test,w)\n",
    "w_list.append(w)\n",
    "ACC_list.append(np.mean(y_pred==y_test))\n",
    "DI_list.append(ut.disparate_impact(y_pred,S_test))\n",
    "CFR_list.append(ut.counterfactual_fairness_rate(y_pred,model_test))"
   ]
  },
  {
   "cell_type": "markdown",
   "metadata": {},
   "source": [
    "## 3.2. Penalized classifiers"
   ]
  },
  {
   "cell_type": "markdown",
   "metadata": {},
   "source": [
    "Corresponds to $\\lambda > 0$. $\\lambda$ governs a trade-off between accuracy and counterfactual fairness."
   ]
  },
  {
   "cell_type": "code",
   "execution_count": 7,
   "metadata": {},
   "outputs": [],
   "source": [
    "for reg in param_list:\n",
    "    w = ut.train_model(X_train,y_train,reg,model_train)\n",
    "    y_pred = ut.classifier(X_test,w)\n",
    "    w_list.append(w)\n",
    "    ACC_list.append(np.mean(y_pred==y_test))\n",
    "    DI_list.append(ut.disparate_impact(y_pred,S_test))\n",
    "    CFR_list.append(ut.counterfactual_fairness_rate(y_pred,model_test))"
   ]
  },
  {
   "cell_type": "markdown",
   "metadata": {},
   "source": [
    "## 3.3. Constant classifier"
   ]
  },
  {
   "cell_type": "markdown",
   "metadata": {},
   "source": [
    "Corresponds to the classifier mapping every input to 0."
   ]
  },
  {
   "cell_type": "code",
   "execution_count": 8,
   "metadata": {},
   "outputs": [],
   "source": [
    "y_pred = np.zeros(len(y_test))\n",
    "ACC_list.append(np.mean(y_pred==y_test))\n",
    "DI_list.append(ut.disparate_impact(y_pred,S_test))\n",
    "CFR_list.append(ut.counterfactual_fairness_rate(y_pred,model_test))"
   ]
  },
  {
   "cell_type": "markdown",
   "metadata": {},
   "source": [
    "## 4. Evaluation"
   ]
  },
  {
   "cell_type": "markdown",
   "metadata": {},
   "source": [
    "We plot the evaluation metrics on a logarithmic scale."
   ]
  },
  {
   "cell_type": "code",
   "execution_count": 9,
   "metadata": {},
   "outputs": [],
   "source": [
    "param_scale = np.log10(param_list)"
   ]
  },
  {
   "cell_type": "markdown",
   "metadata": {},
   "source": [
    "### 4.1. Accuracy"
   ]
  },
  {
   "cell_type": "code",
   "execution_count": 10,
   "metadata": {
    "scrolled": true
   },
   "outputs": [],
   "source": [
    "metric = ACC_list\n",
    "title = 'Accuracy'\n",
    "save = 'ACC.png'"
   ]
  },
  {
   "cell_type": "code",
   "execution_count": 11,
   "metadata": {},
   "outputs": [
    {
     "data": {
      "image/png": "[encoded data removed]",
      "text/plain": [
       "<Figure size 432x288 with 1 Axes>"
      ]
     },
     "metadata": {
      "needs_background": "light"
     },
     "output_type": "display_data"
    }
   ],
   "source": [
    "#Unfair\n",
    "plt.plot(param_scale,[metric[0]]*len(param_scale), color='green', label='LR')\n",
    "#Trade-off\n",
    "plt.plot(param_scale,metric[1:len(param_scale)+1],\n",
    "         color='blue',linestyle='solid', marker='o', label='$\\Pi$-Fair($\\lambda$)')\n",
    "#Fair\n",
    "plt.plot(param_scale,[metric[-1]]*len(param_scale), color='red', label='Zero')\n",
    "\n",
    "plt.ylabel(title)\n",
    "plt.xlabel('$\\lambda$ (log10)')\n",
    "plt.legend()\n",
    "fig = plt.gcf()\n",
    "plt.show()\n",
    "\n",
    "fig.savefig(save)"
   ]
  },
  {
   "cell_type": "markdown",
   "metadata": {},
   "source": [
    "### 4.2. Counterfactual fairness rate"
   ]
  },
  {
   "cell_type": "code",
   "execution_count": 12,
   "metadata": {},
   "outputs": [],
   "source": [
    "metric = CFR_list\n",
    "title = 'Counterfactual Fairness Rate'\n",
    "save = 'CFR.png'"
   ]
  },
  {
   "cell_type": "code",
   "execution_count": 13,
   "metadata": {
    "scrolled": true
   },
   "outputs": [
    {
     "data": {
      "image/png": "[encoded data removed]",
      "text/plain": [
       "<Figure size 432x288 with 1 Axes>"
      ]
     },
     "metadata": {
      "needs_background": "light"
     },
     "output_type": "display_data"
    }
   ],
   "source": [
    "#Unfair\n",
    "plt.plot(param_scale,[metric[0]]*len(param_scale), color='green', label='LR')\n",
    "#Trade-off\n",
    "plt.plot(param_scale,metric[1:len(param_scale)+1],\n",
    "         color='blue',linestyle='solid', marker='o', label='$\\Pi$-Fair($\\lambda$)')\n",
    "#Fair\n",
    "plt.plot(param_scale,[metric[-1]]*len(param_scale), color='red', label='Zero')\n",
    "\n",
    "plt.ylabel(title)\n",
    "plt.xlabel('$\\lambda$ (log10)')\n",
    "plt.legend()\n",
    "fig = plt.gcf()\n",
    "plt.show()\n",
    "\n",
    "fig.savefig(save)"
   ]
  },
  {
   "cell_type": "markdown",
   "metadata": {},
   "source": [
    "### 4.3. Disparate Impact"
   ]
  },
  {
   "cell_type": "code",
   "execution_count": 14,
   "metadata": {},
   "outputs": [],
   "source": [
    "metric = DI_list\n",
    "title = 'Disparate Impact'\n",
    "save = 'DI.png'"
   ]
  },
  {
   "cell_type": "code",
   "execution_count": 15,
   "metadata": {},
   "outputs": [
    {
     "data": {
      "image/png": "[encoded data removed]",
      "text/plain": [
       "<Figure size 432x288 with 1 Axes>"
      ]
     },
     "metadata": {
      "needs_background": "light"
     },
     "output_type": "display_data"
    }
   ],
   "source": [
    "#Unfair\n",
    "plt.plot(param_scale,[metric[0]]*len(param_scale), color='green', label='LR')\n",
    "#Trade-off\n",
    "plt.plot(param_scale,metric[1:len(param_scale)+1],\n",
    "         color='blue',linestyle='solid', marker='o', label='$\\Pi$-Fair($\\lambda$)')\n",
    "#Fair\n",
    "plt.plot(param_scale,[metric[-1]]*len(param_scale), color='red', label='Zero')\n",
    "\n",
    "plt.ylabel(title)\n",
    "plt.xlabel('$\\lambda$ (log10)')\n",
    "plt.legend()\n",
    "fig = plt.gcf()\n",
    "plt.show()\n",
    "\n",
    "fig.savefig(save)"
   ]
  },
  {
   "cell_type": "code",
   "execution_count": null,
   "metadata": {},
   "outputs": [],
   "source": []
  }
 ],
 "metadata": {
  "kernelspec": {
   "display_name": "Python 3",
   "language": "python",
   "name": "python3"
  },
  "language_info": {
   "codemirror_mode": {
    "name": "ipython",
    "version": 3
   },
   "file_extension": ".py",
   "mimetype": "text/x-python",
   "name": "python",
   "nbconvert_exporter": "python",
   "pygments_lexer": "ipython3",
   "version": "3.8.3"
  }
 },
 "nbformat": 4,
 "nbformat_minor": 4
}
